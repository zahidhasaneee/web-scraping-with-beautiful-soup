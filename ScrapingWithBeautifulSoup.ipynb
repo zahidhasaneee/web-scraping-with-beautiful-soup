{
  "nbformat": 4,
  "nbformat_minor": 0,
  "metadata": {
    "colab": {
      "provenance": []
    },
    "kernelspec": {
      "name": "python3",
      "display_name": "Python 3"
    },
    "language_info": {
      "name": "python"
    }
  },
  "cells": [
    {
      "cell_type": "code",
      "execution_count": 2,
      "metadata": {
        "id": "jLqWHrI7YS0m"
      },
      "outputs": [],
      "source": [
        "import pandas as pd\n",
        "import requests\n",
        "from bs4 import BeautifulSoup as bf"
      ]
    },
    {
      "cell_type": "code",
      "source": [
        "books = []\n",
        "for i in range(1,51):\n",
        "  url = f\"http://books.toscrape.com/catalogue/page-{i}.html\"\n",
        "  response = requests.get(url)\n",
        "  response = response.content\n",
        "  soup = bf(response,'html.parser')\n",
        "  ol = soup.find('ol')\n",
        "  articles = ol.find_all('article')\n",
        "\n",
        "  for article in articles:\n",
        "    image = article.find('img')\n",
        "    title = image.attrs['alt']\n",
        "    rating = article.find('p')\n",
        "    rating = rating['class'][1]\n",
        "    price = article.find('p',class_='price_color').text\n",
        "    books.append([title,price,rating])\n",
        "df =pd.DataFrame(books,columns=['Title','Price','Rating'])\n",
        "df.to_csv('books.csv')\n"
      ],
      "metadata": {
        "id": "KYohKwVpYoCD"
      },
      "execution_count": 6,
      "outputs": []
    },
    {
      "cell_type": "code",
      "source": [],
      "metadata": {
        "id": "CIe7kO8AuWKs"
      },
      "execution_count": null,
      "outputs": []
    },
    {
      "cell_type": "markdown",
      "source": [
        "# New Section"
      ],
      "metadata": {
        "id": "W6ccV950whaj"
      }
    }
  ]
}